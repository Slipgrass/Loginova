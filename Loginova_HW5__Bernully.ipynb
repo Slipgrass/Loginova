{
  "nbformat": 4,
  "nbformat_minor": 0,
  "metadata": {
    "colab": {
      "name": "Loginova_HW5_ Bernully.ipynb",
      "provenance": [],
      "collapsed_sections": [],
      "include_colab_link": true
    },
    "language_info": {
      "codemirror_mode": {
        "name": "ipython",
        "version": 3
      },
      "file_extension": ".py",
      "mimetype": "text/x-python",
      "name": "python",
      "nbconvert_exporter": "python",
      "pygments_lexer": "ipython3",
      "version": "3.6.0"
    },
    "kernelspec": {
      "display_name": "Python 3",
      "language": "python",
      "name": "python3"
    }
  },
  "cells": [
    {
      "cell_type": "markdown",
      "metadata": {
        "id": "view-in-github",
        "colab_type": "text"
      },
      "source": [
        "<a href=\"https://colab.research.google.com/github/Slipgrass/Loginova/blob/main/Loginova_HW5__Bernully.ipynb\" target=\"_parent\"><img src=\"https://colab.research.google.com/assets/colab-badge.svg\" alt=\"Open In Colab\"/></a>"
      ]
    },
    {
      "cell_type": "code",
      "metadata": {
        "id": "GB0qd9sKpL_j"
      },
      "source": [
        "import numpy as np\n",
        "import itertools\n",
        "import math\n"
      ],
      "execution_count": 47,
      "outputs": []
    },
    {
      "cell_type": "code",
      "metadata": {
        "id": "q0zHtpmgpL_p",
        "colab": {
          "base_uri": "https://localhost:8080/"
        },
        "outputId": "317a1943-3d99-4538-e0ce-e413127d9bf5"
      },
      "source": [
        " k, n = 0, 1000\n",
        " a = np. random. randint(0, 2, n)\n",
        " b = np. random. randint(0, 2, n)\n",
        " c = np. random. randint(0, 2, n)\n",
        " d = np. random. randint(0, 2, n)\n",
        " x = a + b + c + d\n",
        " for i in range(0, n):\n",
        "   if x[i] == 3:\n",
        "     k += 1\n",
        "#print(a, b, c, d)\n",
        "#print(x)\n",
        "c = factorial(4) / (factorial(3) * factorial(4 - 3))\n",
        "p = c / 2 ** 4\n",
        "\n",
        "print(k, n, k / n)\n",
        "print(p)\n",
        "\n"
      ],
      "execution_count": 53,
      "outputs": [
        {
          "output_type": "stream",
          "name": "stdout",
          "text": [
            "255 1000 0.255\n",
            "0.25\n"
          ]
        }
      ]
    },
    {
      "cell_type": "code",
      "metadata": {
        "id": "VgZZDLpTpL_4",
        "colab": {
          "base_uri": "https://localhost:8080/"
        },
        "outputId": "995cce82-4a38-4dee-9e15-3d5ea193ab66"
      },
      "source": [
        "for p in itertools.product(\"1234\",repeat=2):\n",
        "    print(''.join(p))   "
      ],
      "execution_count": 59,
      "outputs": [
        {
          "output_type": "stream",
          "name": "stdout",
          "text": [
            "11\n",
            "12\n",
            "13\n",
            "14\n",
            "21\n",
            "22\n",
            "23\n",
            "24\n",
            "31\n",
            "32\n",
            "33\n",
            "34\n",
            "41\n",
            "42\n",
            "43\n",
            "44\n"
          ]
        }
      ]
    },
    {
      "cell_type": "code",
      "metadata": {
        "id": "dAKpARzzpL_6"
      },
      "source": [
        ""
      ],
      "execution_count": null,
      "outputs": []
    }
  ]
}