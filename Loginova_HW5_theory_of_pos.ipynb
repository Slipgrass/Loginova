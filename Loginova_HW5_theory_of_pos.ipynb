{
  "cells": [
    {
      "cell_type": "markdown",
      "metadata": {
        "id": "view-in-github",
        "colab_type": "text"
      },
      "source": [
        "<a href=\"https://colab.research.google.com/github/Slipgrass/Loginova/blob/main/Loginova_HW5_theory_of_pos.ipynb\" target=\"_parent\"><img src=\"https://colab.research.google.com/assets/colab-badge.svg\" alt=\"Open In Colab\"/></a>"
      ]
    },
    {
      "cell_type": "code",
      "execution_count": null,
      "metadata": {
        "id": "rkYbYTJ9Pelc"
      },
      "outputs": [],
      "source": [
        "%matplotlib inline\n",
        "import numpy as np\n",
        "import matplotlib.pyplot as plt\n",
        "import matplotlib.mlab as mlab"
      ]
    },
    {
      "cell_type": "markdown",
      "source": [
        "Ко:д, моделирующий работу рулетки. Выпадает \"красное\", \"черное\" или \"зеро\"."
      ],
      "metadata": {
        "id": "s6qElVf0_5dJ"
      }
    },
    {
      "cell_type": "code",
      "execution_count": null,
      "metadata": {
        "colab": {
          "background_save": true,
          "base_uri": "https://localhost:8080/"
        },
        "id": "LScUkWJ-Pt43",
        "outputId": "7e6ae68a-e765-40a7-d84d-802f534dee1b"
      },
      "outputs": [
        {
          "name": "stdout",
          "output_type": "stream",
          "text": [
            "13\n",
            "черное\n",
            "21\n",
            "красное\n",
            "16\n",
            "красное\n",
            "4\n",
            "черное\n",
            "28\n",
            "черное\n"
          ]
        }
      ],
      "source": [
        "for i in range(0, 38):\n",
        "    a = input()\n",
        "    x = int(np.random.uniform(0, 36))\n",
        "    print(x)\n",
        "    if x == 0:\n",
        "      print(\"зеро\")\n",
        "    elif x % 2 == 0 and (12 <= x <= 18 or 30 <= x <= 36):\n",
        "        print(\"красное\")\n",
        "    elif x % 2 == 1 and (1 <= x <= 9 or 19 <= x <= 27):\n",
        "        print(\"красное\")\n",
        "    else:\n",
        "        print(\"черное\")\n",
        "\n",
        "    \n",
        "\n"
      ]
    },
    {
      "cell_type": "markdown",
      "source": [
        "Код, проверяющий теорию сложения вероятностей на примере орла и решки. "
      ],
      "metadata": {
        "id": "c66x8ig-_qqs"
      }
    },
    {
      "cell_type": "code",
      "source": [
        "heads = 0\n",
        "tails = 0\n",
        "n = 100\n",
        "flag = False\n",
        "for i in range(0, n):\n",
        "    x = np.random.uniform(0, 11) #генерирование случайного числа от 0 до 10\n",
        "    i += 1 # подсчет количества итераций\n",
        "    if x < 5: #условие, что все x<5 относятся к орлам и наоборот \n",
        "        heads += 1 \n",
        "    else:\n",
        "        tails += 1\n",
        "if heads / n + tails / n == 1: #проверка теории сложения. \n",
        "  flag = True\n",
        "  \n",
        "print(flag, heads, tails, i)"
      ],
      "metadata": {
        "colab": {
          "base_uri": "https://localhost:8080/"
        },
        "id": "X3h2DEec9yWN",
        "outputId": "d24fb39b-6081-4550-fbca-e9707761b052"
      },
      "execution_count": null,
      "outputs": [
        {
          "output_type": "stream",
          "name": "stdout",
          "text": [
            "True 52 48 100\n"
          ]
        }
      ]
    },
    {
      "cell_type": "markdown",
      "source": [
        "Код, генерирующий 10 выборок и строящий гистограмму распределения случайной суммы."
      ],
      "metadata": {
        "id": "LycYurHRAVIx"
      }
    },
    {
      "cell_type": "code",
      "source": [
        "samp_amount=[]\n",
        "for i in range(10):\n",
        "  x = np.random.rand(10)\n",
        "  print(x)\n",
        "  samp_amount.append(sum(x))\n",
        "  print(sum(x))\n",
        "  i += 1\n",
        "num_bins = 10\n",
        "n, bins, patches = plt.hist(samp_amount, num_bins)\n",
        "plt.xlabel('Sum')\n",
        "plt.ylabel('Probability')\n",
        "plt.title('Histogram')\n"
      ],
      "metadata": {
        "colab": {
          "base_uri": "https://localhost:8080/",
          "height": 833
        },
        "id": "wq6NMAz3BYiJ",
        "outputId": "d17af631-4ea2-4bd2-e677-d469c41375e3"
      },
      "execution_count": null,
      "outputs": [
        {
          "output_type": "stream",
          "name": "stdout",
          "text": [
            "[0.21736589 0.29623165 0.55959382 0.44705633 0.23983449 0.64483447\n",
            " 0.16817432 0.5770037  0.76639332 0.97572508]\n",
            "4.892213060217919\n",
            "[0.60332016 0.05857704 0.89129505 0.96626293 0.66319892 0.33034494\n",
            " 0.64667856 0.52699552 0.28046705 0.44500274]\n",
            "5.4121429137118415\n",
            "[0.17185841 0.88026536 0.95422644 0.61481608 0.57374345 0.38533772\n",
            " 0.22303562 0.43667945 0.45541467 0.92738148]\n",
            "5.622758665999528\n",
            "[0.9624832  0.6498463  0.83730123 0.45633749 0.79674707 0.48175832\n",
            " 0.70144564 0.74744213 0.21944573 0.70478896]\n",
            "6.557596069713259\n",
            "[0.73810798 0.14345093 0.16561874 0.19914721 0.7868884  0.00177563\n",
            " 0.58270821 0.63986086 0.53443448 0.99334831]\n",
            "4.7853407428397094\n",
            "[0.82129583 0.25240474 0.23844407 0.87155623 0.14219873 0.05829596\n",
            " 0.92996055 0.09292164 0.74282298 0.55723755]\n",
            "4.707138279828696\n",
            "[0.533036   0.89655182 0.80841223 0.65339043 0.49479747 0.0743963\n",
            " 0.47971773 0.69771187 0.85721509 0.4124703 ]\n",
            "5.9076992345801544\n",
            "[0.02174677 0.18683585 0.50969797 0.99521912 0.9137762  0.37075433\n",
            " 0.69341378 0.27464562 0.54104924 0.90961773]\n",
            "5.416756618454967\n",
            "[0.36730682 0.622904   0.74000744 0.70407632 0.76502452 0.14941269\n",
            " 0.51874443 0.36673705 0.18869476 0.74103069]\n",
            "5.163938707740909\n",
            "[0.28941345 0.00636738 0.23704865 0.2278175  0.87979659 0.44418467\n",
            " 0.6260943  0.41716581 0.86414762 0.33841682]\n",
            "4.330452784338975\n"
          ]
        },
        {
          "output_type": "execute_result",
          "data": {
            "text/plain": [
              "Text(0.5, 1.0, 'Histogram')"
            ]
          },
          "metadata": {},
          "execution_count": 33
        },
        {
          "output_type": "display_data",
          "data": {
            "text/plain": [
              "<Figure size 432x288 with 1 Axes>"
            ],
            "image/png": "[encoded data removed]"
          },
          "metadata": {
            "needs_background": "light"
          }
        }
      ]
    },
    {
      "cell_type": "markdown",
      "source": [
        "Код, рассчета вероятностей через биноминальное распределение."
      ],
      "metadata": {
        "id": "4xYRw-SaFLnf"
      }
    },
    {
      "cell_type": "code",
      "source": [
        ""
      ],
      "metadata": {
        "id": "9MARvrb1BjH3"
      },
      "execution_count": null,
      "outputs": []
    },
    {
      "cell_type": "code",
      "source": [
        ""
      ],
      "metadata": {
        "id": "fEKIw-uJFWRj"
      },
      "execution_count": null,
      "outputs": []
    }
  ],
  "metadata": {
    "colab": {
      "name": "Loginova_HW5_theory_of_pos.ipynb",
      "provenance": [],
      "collapsed_sections": [],
      "authorship_tag": "ABX9TyMZCeEmhhzgyfMAq3jQEe3G",
      "include_colab_link": true
    },
    "kernelspec": {
      "display_name": "Python 3",
      "name": "python3"
    },
    "language_info": {
      "name": "python"
    }
  },
  "nbformat": 4,
  "nbformat_minor": 0
}