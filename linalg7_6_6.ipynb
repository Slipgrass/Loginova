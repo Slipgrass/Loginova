{
  "nbformat": 4,
  "nbformat_minor": 0,
  "metadata": {
    "kernelspec": {
      "display_name": "Python 3",
      "language": "python",
      "name": "python3"
    },
    "language_info": {
      "codemirror_mode": {
        "name": "ipython",
        "version": 3
      },
      "file_extension": ".py",
      "mimetype": "text/x-python",
      "name": "python",
      "nbconvert_exporter": "python",
      "pygments_lexer": "ipython3",
      "version": "3.6.0"
    },
    "colab": {
      "name": "linalg7_6.6.ipynb",
      "provenance": [],
      "include_colab_link": true
    }
  },
  "cells": [
    {
      "cell_type": "markdown",
      "metadata": {
        "id": "view-in-github",
        "colab_type": "text"
      },
      "source": [
        "<a href=\"https://colab.research.google.com/github/Slipgrass/Loginova/blob/main/linalg7_6_6.ipynb\" target=\"_parent\"><img src=\"https://colab.research.google.com/assets/colab-badge.svg\" alt=\"Open In Colab\"/></a>"
      ]
    },
    {
      "cell_type": "markdown",
      "metadata": {
        "collapsed": true,
        "id": "U6kphHFKaYZp"
      },
      "source": [
        "### Матричные разложения "
      ]
    },
    {
      "cell_type": "code",
      "metadata": {
        "id": "TfjXGk9raYZt"
      },
      "source": [
        "import numpy as np\n",
        "import matplotlib.pyplot as plt"
      ],
      "execution_count": null,
      "outputs": []
    },
    {
      "cell_type": "code",
      "metadata": {
        "id": "r0nSj5yHaYZ5",
        "colab": {
          "base_uri": "https://localhost:8080/"
        },
        "outputId": "fafd8ae7-4b8b-4214-e285-dee3a2f0d927"
      },
      "source": [
        "A = np.array([ [1, 2, 3], [4, 5, 6], [7, 8, 9] ])\n",
        "B = np.array([2, 5, 11])\n",
        "Q, R = np.linalg.qr(A)\n",
        " \n",
        "print(A)\n",
        "print(Q)\n",
        "print(R)"
      ],
      "execution_count": null,
      "outputs": [
        {
          "output_type": "stream",
          "text": [
            "[[1 2 3]\n",
            " [4 5 6]\n",
            " [7 8 9]]\n",
            "[[-0.12309149  0.90453403  0.40824829]\n",
            " [-0.49236596  0.30151134 -0.81649658]\n",
            " [-0.86164044 -0.30151134  0.40824829]]\n",
            "[[-8.12403840e+00 -9.60113630e+00 -1.10782342e+01]\n",
            " [ 0.00000000e+00  9.04534034e-01  1.80906807e+00]\n",
            " [ 0.00000000e+00  0.00000000e+00 -7.58790979e-16]]\n"
          ],
          "name": "stdout"
        }
      ]
    },
    {
      "cell_type": "code",
      "metadata": {
        "id": "4ZHNfcgFaYbH",
        "colab": {
          "base_uri": "https://localhost:8080/"
        },
        "outputId": "f5392f5f-3d55-4107-8ceb-5f6b69b863ca"
      },
      "source": [
        "print(np.dot(Q, R))\n",
        "print(np.dot(np.transpose(Q), Q))"
      ],
      "execution_count": null,
      "outputs": [
        {
          "output_type": "stream",
          "text": [
            "[[1. 2. 3.]\n",
            " [4. 5. 6.]\n",
            " [7. 8. 9.]]\n",
            "[[ 1.00000000e+00 -2.48218629e-16 -2.62094065e-17]\n",
            " [-2.48218629e-16  1.00000000e+00  2.82872043e-17]\n",
            " [-2.62094065e-17  2.82872043e-17  1.00000000e+00]]\n"
          ],
          "name": "stdout"
        }
      ]
    },
    {
      "cell_type": "code",
      "metadata": {
        "id": "F9mnzcmRaYbU",
        "colab": {
          "base_uri": "https://localhost:8080/"
        },
        "outputId": "0f372400-b7d7-4ecd-c216-e8e18a40d56d"
      },
      "source": [
        "R1 = R[:2, :2]\n",
        "R1"
      ],
      "execution_count": null,
      "outputs": [
        {
          "output_type": "execute_result",
          "data": {
            "text/plain": [
              "array([[-8.1240384 , -9.6011363 ],\n",
              "       [ 0.        ,  0.90453403]])"
            ]
          },
          "metadata": {
            "tags": []
          },
          "execution_count": 4
        }
      ]
    },
    {
      "cell_type": "code",
      "metadata": {
        "id": "9jfX8ikGaYbe",
        "colab": {
          "base_uri": "https://localhost:8080/"
        },
        "outputId": "5c4b4e80-835c-4611-8f93-b272fd1449f6"
      },
      "source": [
        "B1 = np.dot(np.transpose(Q), B)[:2]\n",
        "B1"
      ],
      "execution_count": null,
      "outputs": [
        {
          "output_type": "execute_result",
          "data": {
            "text/plain": [
              "array([-1.21860576e+01,  3.33066907e-15])"
            ]
          },
          "metadata": {
            "tags": []
          },
          "execution_count": 5
        }
      ]
    },
    {
      "cell_type": "code",
      "metadata": {
        "id": "jJp-3e7NaYbm",
        "colab": {
          "base_uri": "https://localhost:8080/"
        },
        "outputId": "3705dce4-835c-4ed5-c6f0-5c9a0d54d844"
      },
      "source": [
        "X1 = np.linalg.solve(R1, B1)\n",
        "X1"
      ],
      "execution_count": null,
      "outputs": [
        {
          "output_type": "execute_result",
          "data": {
            "text/plain": [
              "array([1.50000000e+00, 3.68219321e-15])"
            ]
          },
          "metadata": {
            "tags": []
          },
          "execution_count": 6
        }
      ]
    },
    {
      "cell_type": "code",
      "metadata": {
        "id": "kadflFW-aYb4",
        "colab": {
          "base_uri": "https://localhost:8080/"
        },
        "outputId": "87bedf23-3fad-40c6-9474-548ec40fa859"
      },
      "source": [
        "X = np.append(X1, 0)\n",
        "print (X)\n",
        "np.linalg.norm(X)"
      ],
      "execution_count": null,
      "outputs": [
        {
          "output_type": "stream",
          "text": [
            "[1.50000000e+00 3.68219321e-15 0.00000000e+00]\n"
          ],
          "name": "stdout"
        },
        {
          "output_type": "execute_result",
          "data": {
            "text/plain": [
              "1.499999999999996"
            ]
          },
          "metadata": {
            "tags": []
          },
          "execution_count": 7
        }
      ]
    },
    {
      "cell_type": "code",
      "metadata": {
        "id": "EqfWxRRLaYb_",
        "colab": {
          "base_uri": "https://localhost:8080/"
        },
        "outputId": "ab4c989a-e852-497e-b032-a822a89b0863"
      },
      "source": [
        "np.linalg.norm(np.dot(A, X) - B)"
      ],
      "execution_count": null,
      "outputs": [
        {
          "output_type": "execute_result",
          "data": {
            "text/plain": [
              "1.2247448713915892"
            ]
          },
          "metadata": {
            "tags": []
          },
          "execution_count": 8
        }
      ]
    },
    {
      "cell_type": "code",
      "metadata": {
        "id": "cHuPBVNaaYcI",
        "colab": {
          "base_uri": "https://localhost:8080/"
        },
        "outputId": "09afe05b-3657-4763-cef0-b5fb591e6d7a"
      },
      "source": [
        "X = np.array([1.5, 1, 0.5])\n",
        "np.linalg.norm(X),  np.linalg.norm(np.dot(A, X) - B)"
      ],
      "execution_count": null,
      "outputs": [
        {
          "output_type": "execute_result",
          "data": {
            "text/plain": [
              "(1.8708286933869707, 15.297058540778355)"
            ]
          },
          "metadata": {
            "tags": []
          },
          "execution_count": 9
        }
      ]
    },
    {
      "cell_type": "code",
      "metadata": {
        "id": "08OqEHPHaYcS"
      },
      "source": [
        ""
      ],
      "execution_count": null,
      "outputs": []
    }
  ]
}