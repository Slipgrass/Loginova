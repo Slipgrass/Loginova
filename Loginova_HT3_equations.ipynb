{
  "nbformat": 4,
  "nbformat_minor": 0,
  "metadata": {
    "colab": {
      "name": "Loginova_HT3_equations.ipynb",
      "provenance": [],
      "collapsed_sections": [],
      "authorship_tag": "ABX9TyMqkR1hgtPyhmllQ7EvRiRC",
      "include_colab_link": true
    },
    "kernelspec": {
      "name": "python3",
      "display_name": "Python 3"
    },
    "language_info": {
      "name": "python"
    }
  },
  "cells": [
    {
      "cell_type": "markdown",
      "metadata": {
        "id": "view-in-github",
        "colab_type": "text"
      },
      "source": [
        "<a href=\"https://colab.research.google.com/github/Slipgrass/Loginova/blob/main/Loginova_HT3_equations.ipynb\" target=\"_parent\"><img src=\"https://colab.research.google.com/assets/colab-badge.svg\" alt=\"Open In Colab\"/></a>"
      ]
    },
    {
      "cell_type": "code",
      "execution_count": 3,
      "metadata": {
        "id": "7d8D7rYdXnsa"
      },
      "outputs": [],
      "source": [
        "%matplotlib inline\n",
        "import numpy as np\n",
        "import matplotlib.pyplot as plt\n",
        "import math"
      ]
    },
    {
      "cell_type": "code",
      "source": [
        "from scipy.optimize import fsolve\n",
        "x = np.linspace(-2, 3, 201)\n",
        "plt.plot(x, (np.exp(x)+x-1)/x)\n",
        "plt.plot(x, x**2-1)\n",
        "plt.xlabel('X')\n",
        "plt.ylabel('Y')\n",
        "plt.ylim(-1.5)\n",
        "plt.grid(True)\n",
        "plt.show()"
      ],
      "metadata": {
        "colab": {
          "base_uri": "https://localhost:8080/",
          "height": 314
        },
        "id": "BnB7Qht9Xvst",
        "outputId": "f8d40575-4d0d-4b0b-8a2d-f6a4061190ac"
      },
      "execution_count": 6,
      "outputs": [
        {
          "output_type": "stream",
          "name": "stderr",
          "text": [
            "/usr/local/lib/python3.7/dist-packages/ipykernel_launcher.py:3: RuntimeWarning: invalid value encountered in true_divide\n",
            "  This is separate from the ipykernel package so we can avoid doing imports until\n"
          ]
        },
        {
          "output_type": "display_data",
          "data": {
            "text/plain": [
              "<Figure size 432x288 with 1 Axes>"
            ],
            "image/png": "[encoded data removed]"
          },
          "metadata": {
            "needs_background": "light"
          }
        }
      ]
    },
    {
      "cell_type": "code",
      "source": [
        "from scipy.optimize import fsolve\n",
        "def equations(p):\n",
        "  x, y = p\n",
        "  return(y-x**2+1, np.exp(x)+x-x*y-1)\n",
        "x1, y1 = fsolve(equations, (-1, 1))\n",
        "print(x1, y1)"
      ],
      "metadata": {
        "colab": {
          "base_uri": "https://localhost:8080/"
        },
        "id": "mcJQi8QdXz2u",
        "outputId": "b1a1b3b2-4055-4a17-d848-c3655450956f"
      },
      "execution_count": 10,
      "outputs": [
        {
          "output_type": "stream",
          "name": "stdout",
          "text": [
            "-1.5818353528983808 1.502203083669976\n"
          ]
        }
      ]
    },
    {
      "cell_type": "code",
      "source": [
        "#решение неравенства\n",
        "from scipy.optimize import fsolve\n",
        "x = np.linspace(-2, 3, 201)\n",
        "\n",
        "plt.plot(x, ((np.exp(x)+x)/x)>0)\n",
        "plt.plot(x, x**2-1)\n",
        "plt.xlabel('X')\n",
        "plt.ylabel('Y')\n",
        "plt.ylim(-1.5)\n",
        "plt.grid(True)\n",
        "plt.show()"
      ],
      "metadata": {
        "colab": {
          "base_uri": "https://localhost:8080/",
          "height": 314
        },
        "id": "frxfeXOQbCoR",
        "outputId": "b9ee9552-0216-400d-9470-f214e05ece02"
      },
      "execution_count": 31,
      "outputs": [
        {
          "output_type": "stream",
          "name": "stderr",
          "text": [
            "/usr/local/lib/python3.7/dist-packages/ipykernel_launcher.py:4: RuntimeWarning: divide by zero encountered in true_divide\n",
            "  after removing the cwd from sys.path.\n"
          ]
        },
        {
          "output_type": "display_data",
          "data": {
            "text/plain": [
              "<Figure size 432x288 with 1 Axes>"
            ],
            "image/png": "[encoded data removed]"
          },
          "metadata": {
            "needs_background": "light"
          }
        }
      ]
    },
    {
      "cell_type": "code",
      "source": [
        "#решение неравенства\n",
        "from scipy.optimize import fsolve\n",
        "def equations(p):\n",
        "  x, y = p\n",
        "  return(y-x**2+1, np.exp(x)+x-x*y-1>0)\n",
        "x1, y1 = fsolve(equations, (-1, 1))\n",
        "print(x1, y1)"
      ],
      "metadata": {
        "colab": {
          "base_uri": "https://localhost:8080/"
        },
        "id": "KRcUkRAic_2S",
        "outputId": "a20b71d2-99bc-457c-973a-b0c6ad12ee8f"
      },
      "execution_count": 29,
      "outputs": [
        {
          "output_type": "stream",
          "name": "stdout",
          "text": [
            "-1.4142135623730947 1.0\n"
          ]
        }
      ]
    }
  ]
}