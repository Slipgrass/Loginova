{
  "nbformat": 4,
  "nbformat_minor": 0,
  "metadata": {
    "colab": {
      "name": "Loginova_HT3_orthogon.ipynb",
      "provenance": [],
      "collapsed_sections": [],
      "authorship_tag": "ABX9TyP95OgfJBzatUNQxxmTbx+I",
      "include_colab_link": true
    },
    "kernelspec": {
      "name": "python3",
      "display_name": "Python 3"
    },
    "language_info": {
      "name": "python"
    }
  },
  "cells": [
    {
      "cell_type": "markdown",
      "metadata": {
        "id": "view-in-github",
        "colab_type": "text"
      },
      "source": [
        "<a href=\"https://colab.research.google.com/github/Slipgrass/Loginova/blob/main/Loginova_HT3_orthogon.ipynb\" target=\"_parent\"><img src=\"https://colab.research.google.com/assets/colab-badge.svg\" alt=\"Open In Colab\"/></a>"
      ]
    },
    {
      "cell_type": "code",
      "execution_count": 34,
      "metadata": {
        "id": "xFTErLyO1_XC"
      },
      "outputs": [],
      "source": [
        "%matplotlib inline\n",
        "import numpy as np\n",
        "import matplotlib.pyplot as plt\n",
        "import math"
      ]
    },
    {
      "cell_type": "code",
      "source": [
        "a = np.arange(0, 2*np.pi, 0.01)\n",
        "r = 4\n",
        "plt.figure()\n",
        "plt.plot(r*np.cos(a), r*np.sin(a))\n",
        "plt.axis('equal')\n",
        "plt.grid(True)\n",
        "plt.show()\n",
        "\n",
        "\n",
        "\n",
        "\n",
        "\n"
      ],
      "metadata": {
        "colab": {
          "base_uri": "https://localhost:8080/",
          "height": 265
        },
        "id": "QZaxBWmX2AfA",
        "outputId": "6ef7a189-b2c1-4b29-9627-71fe279d821f"
      },
      "execution_count": 28,
      "outputs": [
        {
          "output_type": "display_data",
          "data": {
            "text/plain": [
              "<Figure size 432x288 with 1 Axes>"
            ],
            "image/png": "[encoded data removed]"
          },
          "metadata": {
            "needs_background": "light"
          }
        }
      ]
    },
    {
      "cell_type": "code",
      "source": [
        ""
      ],
      "metadata": {
        "id": "ojXba7H9RLgn"
      },
      "execution_count": null,
      "outputs": []
    },
    {
      "cell_type": "code",
      "source": [
        "#программа перевода полярных координат в декартовы\n",
        "t = int(input('Введите угол а в градусах:' ))\n",
        "a = math.radians(t)\n",
        "r = int(input())\n",
        "x = r*np.cos(a)\n",
        "y = r*np.sin(a)\n",
        "print(x)\n",
        "print(y)"
      ],
      "metadata": {
        "colab": {
          "base_uri": "https://localhost:8080/"
        },
        "id": "LXvB-ab1HMOC",
        "outputId": "9ef94c75-3671-4eeb-983e-4c94b25e3807"
      },
      "execution_count": 52,
      "outputs": [
        {
          "output_type": "stream",
          "name": "stdout",
          "text": [
            "Введите угол а в градусах:90\n",
            "2\n",
            "1.2246467991473532e-16\n",
            "2.0\n"
          ]
        }
      ]
    },
    {
      "cell_type": "code",
      "source": [
        "#не уверена, что это правильное решение. выдает комплексное число, это неправильно? Но вроде у двух задач ответы сходятся.\n",
        "def pol2cart(r, alpha):\n",
        "    x = r * math.cos(math.radians(alpha))\n",
        "    y = r * math.sin(math.radians(alpha))\n",
        "    return(x, y)\n",
        "\n",
        "print(pol2cart(2, 90))\n",
        "\n"
      ],
      "metadata": {
        "colab": {
          "base_uri": "https://localhost:8080/"
        },
        "id": "omJC2dtrMHMO",
        "outputId": "c0fad92a-5b38-4b5c-8131-cd5776decd12"
      },
      "execution_count": 51,
      "outputs": [
        {
          "output_type": "stream",
          "name": "stdout",
          "text": [
            "(1.2246467991473532e-16, 2.0)\n"
          ]
        }
      ]
    },
    {
      "cell_type": "code",
      "source": [
        "#График отрезка прямой линии в полярных координатах\n",
        "a = np.arange(0, np.pi, 3)\n",
        "r = 1\n",
        "x = r*np.cos(a)\n",
        "y = np.sqrt(r**2-x**2)\n",
        "plt.plot(x, y)\n",
        "plt.axis('equal')\n",
        "plt.grid(True)\n",
        "plt.show()\n",
        "print(x, y)"
      ],
      "metadata": {
        "colab": {
          "base_uri": "https://localhost:8080/",
          "height": 282
        },
        "id": "jpISN1r7ROD9",
        "outputId": "8f5dfa5d-9253-4ee5-bd23-0e7146b4963d"
      },
      "execution_count": 80,
      "outputs": [
        {
          "output_type": "display_data",
          "data": {
            "text/plain": [
              "<Figure size 432x288 with 1 Axes>"
            ],
            "image/png": "[encoded data removed]"
          },
          "metadata": {
            "needs_background": "light"
          }
        },
        {
          "output_type": "stream",
          "name": "stdout",
          "text": [
            "[ 1.        -0.9899925] [0.         0.14112001]\n"
          ]
        }
      ]
    }
  ]
}