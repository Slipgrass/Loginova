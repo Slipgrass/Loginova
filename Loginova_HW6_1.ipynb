{
  "nbformat": 4,
  "nbformat_minor": 0,
  "metadata": {
    "colab": {
      "name": "Loginova_HW6_1.ipynb",
      "provenance": [],
      "collapsed_sections": [],
      "authorship_tag": "ABX9TyPTO+x4B5qwDrc8kmf6ubpC",
      "include_colab_link": true
    },
    "kernelspec": {
      "name": "python3",
      "display_name": "Python 3"
    },
    "language_info": {
      "name": "python"
    }
  },
  "cells": [
    {
      "cell_type": "markdown",
      "metadata": {
        "id": "view-in-github",
        "colab_type": "text"
      },
      "source": [
        "<a href=\"https://colab.research.google.com/github/Slipgrass/Loginova/blob/main/Loginova_HW6_1.ipynb\" target=\"_parent\"><img src=\"https://colab.research.google.com/assets/colab-badge.svg\" alt=\"Open In Colab\"/></a>"
      ]
    },
    {
      "cell_type": "code",
      "execution_count": null,
      "metadata": {
        "id": "sDra18cQptCb"
      },
      "outputs": [],
      "source": [
        "import numpy as np\n",
        "import matplotlib.pyplot as plt"
      ]
    },
    {
      "cell_type": "code",
      "source": [
        "import numpy as np\n",
        "import matplotlib.pyplot as plt\n",
        "\n",
        "A = np.array([[1, 2, 3], [4, 0, 6], [7, 8, 9]], float) #создаем матрицу А\n",
        "B = np.array([12, 2, 1])  #Создаем вектор В\n",
        "np.linalg.solve(A, B) # получаем решение в виде вектора неизвестных"
      ],
      "metadata": {
        "colab": {
          "base_uri": "https://localhost:8080/"
        },
        "id": "KbQr709ap3SW",
        "outputId": "a917a174-25c0-4310-be36-223f8f280a92"
      },
      "execution_count": null,
      "outputs": [
        {
          "output_type": "execute_result",
          "data": {
            "text/plain": [
              "array([-9.2       ,  0.9       ,  6.46666667])"
            ]
          },
          "metadata": {},
          "execution_count": 4
        }
      ]
    },
    {
      "cell_type": "code",
      "source": [
        "A = np.array([[1, 2, 3], [4, 0, 6], [7, 8, 9]], float) # создаем матрицу А\n",
        "B = np.array([12, 2, 1])  #Создаем вектор В\n",
        "A1 = np.linalg.inv(A) # создаём обратную матрицу А1\n",
        "print(A1)\n",
        "print(\"det =\", np.linalg.det(A)) # определяем детерминант матрицы А\n",
        "np.dot(A1, B) # перемножаем матрицу А1 и вектор В, находим вектор Х. "
      ],
      "metadata": {
        "colab": {
          "base_uri": "https://localhost:8080/"
        },
        "id": "K3nTiGQVqtCJ",
        "outputId": "403d99c7-11e4-443e-c260-89c819705e95"
      },
      "execution_count": null,
      "outputs": [
        {
          "output_type": "stream",
          "name": "stdout",
          "text": [
            "[[-0.8         0.1         0.2       ]\n",
            " [ 0.1        -0.2         0.1       ]\n",
            " [ 0.53333333  0.1        -0.13333333]]\n",
            "det = 59.999999999999986\n"
          ]
        },
        {
          "output_type": "execute_result",
          "data": {
            "text/plain": [
              "array([-9.2       ,  0.9       ,  6.46666667])"
            ]
          },
          "metadata": {},
          "execution_count": 10
        }
      ]
    }
  ]
}