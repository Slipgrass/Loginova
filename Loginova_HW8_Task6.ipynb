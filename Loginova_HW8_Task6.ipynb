{
  "nbformat": 4,
  "nbformat_minor": 0,
  "metadata": {
    "colab": {
      "name": "Loginova_HW8_Task6.ipynb",
      "provenance": [],
      "collapsed_sections": [],
      "authorship_tag": "ABX9TyMS3H8Vq678xgI0WJfCBAX2",
      "include_colab_link": true
    },
    "kernelspec": {
      "name": "python3",
      "display_name": "Python 3"
    },
    "language_info": {
      "name": "python"
    }
  },
  "cells": [
    {
      "cell_type": "markdown",
      "metadata": {
        "id": "view-in-github",
        "colab_type": "text"
      },
      "source": [
        "<a href=\"https://colab.research.google.com/github/Slipgrass/Loginova/blob/main/Loginova_HW8_Task6.ipynb\" target=\"_parent\"><img src=\"https://colab.research.google.com/assets/colab-badge.svg\" alt=\"Open In Colab\"/></a>"
      ]
    },
    {
      "cell_type": "markdown",
      "source": [
        "Задание 6. Найти одно из псевдорешений вырожденной системы.\n",
        "Найти нормальное решение."
      ],
      "metadata": {
        "id": "L9na9QOMTQ41"
      }
    },
    {
      "cell_type": "code",
      "execution_count": 18,
      "metadata": {
        "id": "HBkVjAeOS8Hr"
      },
      "outputs": [],
      "source": [
        "import numpy as np\n",
        "import matplotlib.pyplot as plt"
      ]
    },
    {
      "cell_type": "code",
      "source": [
        "A = np.array([[1, 2, 3], [4, 5, 6], [7, 8, 9]])\n",
        "B = np.array([2, 5, 11])\n",
        "Q, R = np.linalg.qr(A)\n",
        "\n",
        "print(A)\n",
        "print(Q)\n",
        "print(R)\n"
      ],
      "metadata": {
        "colab": {
          "base_uri": "https://localhost:8080/"
        },
        "id": "s1aEn-XSS9Je",
        "outputId": "04af017d-8627-485f-d8f1-c8f06bbe76e6"
      },
      "execution_count": 8,
      "outputs": [
        {
          "output_type": "stream",
          "name": "stdout",
          "text": [
            "[[1 2 3]\n",
            " [4 5 6]\n",
            " [7 8 9]]\n",
            "[[-0.12309149  0.90453403  0.40824829]\n",
            " [-0.49236596  0.30151134 -0.81649658]\n",
            " [-0.86164044 -0.30151134  0.40824829]]\n",
            "[[-8.12403840e+00 -9.60113630e+00 -1.10782342e+01]\n",
            " [ 0.00000000e+00  9.04534034e-01  1.80906807e+00]\n",
            " [ 0.00000000e+00  0.00000000e+00 -8.88178420e-16]]\n"
          ]
        }
      ]
    },
    {
      "cell_type": "code",
      "source": [
        "print(np.dot(Q, R))\n",
        "print(np.dot(np.transpose(Q), Q))"
      ],
      "metadata": {
        "colab": {
          "base_uri": "https://localhost:8080/"
        },
        "id": "QDDjKCkhYurQ",
        "outputId": "f58ab19a-c3dc-4881-ab0d-cffb055ead36"
      },
      "execution_count": 10,
      "outputs": [
        {
          "output_type": "stream",
          "name": "stdout",
          "text": [
            "[[1. 2. 3.]\n",
            " [4. 5. 6.]\n",
            " [7. 8. 9.]]\n",
            "[[ 1.00000000e+00 -2.48218629e-16 -2.62094065e-17]\n",
            " [-2.48218629e-16  1.00000000e+00  2.82872043e-17]\n",
            " [-2.62094065e-17  2.82872043e-17  1.00000000e+00]]\n"
          ]
        }
      ]
    },
    {
      "cell_type": "code",
      "source": [
        "R1 = R[:2, :2]\n",
        "R1"
      ],
      "metadata": {
        "colab": {
          "base_uri": "https://localhost:8080/"
        },
        "id": "BsBKegktZaDC",
        "outputId": "fcad85ef-c2ba-43ea-a494-0d12d8686349"
      },
      "execution_count": 12,
      "outputs": [
        {
          "output_type": "execute_result",
          "data": {
            "text/plain": [
              "array([[-8.1240384 , -9.6011363 ],\n",
              "       [ 0.        ,  0.90453403]])"
            ]
          },
          "metadata": {},
          "execution_count": 12
        }
      ]
    },
    {
      "cell_type": "code",
      "source": [
        "B1 = np.dot(np.transpose(Q), B)[:2]\n",
        "B1"
      ],
      "metadata": {
        "colab": {
          "base_uri": "https://localhost:8080/"
        },
        "id": "b3AgzorIZoGg",
        "outputId": "3f21ed58-10b0-40cd-8497-62318a7c4e98"
      },
      "execution_count": 13,
      "outputs": [
        {
          "output_type": "execute_result",
          "data": {
            "text/plain": [
              "array([-1.21860576e+01,  3.55271368e-15])"
            ]
          },
          "metadata": {},
          "execution_count": 13
        }
      ]
    },
    {
      "cell_type": "code",
      "source": [
        "X1 = np.linalg.solve(R1, B1)\n",
        "X1"
      ],
      "metadata": {
        "colab": {
          "base_uri": "https://localhost:8080/"
        },
        "id": "NEOKn-xoaCTM",
        "outputId": "6d6b200e-a5b0-4c2f-ca39-6a03d929e9ec"
      },
      "execution_count": 14,
      "outputs": [
        {
          "output_type": "execute_result",
          "data": {
            "text/plain": [
              "array([1.50000000e+00, 3.92767275e-15])"
            ]
          },
          "metadata": {},
          "execution_count": 14
        }
      ]
    },
    {
      "cell_type": "code",
      "source": [
        "X = np.append(X1, 0)\n",
        "print(X)\n",
        "np.linalg.norm(X)"
      ],
      "metadata": {
        "colab": {
          "base_uri": "https://localhost:8080/"
        },
        "id": "qD-pH6QnaP8s",
        "outputId": "aaf5f37c-ed20-4d07-8613-7330fbbb08bc"
      },
      "execution_count": 15,
      "outputs": [
        {
          "output_type": "stream",
          "name": "stdout",
          "text": [
            "[1.50000000e+00 3.92767275e-15 0.00000000e+00]\n"
          ]
        },
        {
          "output_type": "execute_result",
          "data": {
            "text/plain": [
              "1.499999999999996"
            ]
          },
          "metadata": {},
          "execution_count": 15
        }
      ]
    },
    {
      "cell_type": "code",
      "source": [
        "np.linalg.norm(np.dot(A, X) - B)"
      ],
      "metadata": {
        "colab": {
          "base_uri": "https://localhost:8080/"
        },
        "id": "RlZ9Si2-ckTh",
        "outputId": "91d19b92-b094-4f89-8550-9d243c7e9b1f"
      },
      "execution_count": 16,
      "outputs": [
        {
          "output_type": "execute_result",
          "data": {
            "text/plain": [
              "1.224744871391589"
            ]
          },
          "metadata": {},
          "execution_count": 16
        }
      ]
    },
    {
      "cell_type": "code",
      "source": [
        "A = np.array([[1, 2, 3], [4, 5, 6], [7, 8, 9]])\n",
        "B = np.array([2, 5, 11])\n",
        "np.linalg.lstsq(A, B, rcond=None) #нашли псевдорешение системы уравнений"
      ],
      "metadata": {
        "colab": {
          "base_uri": "https://localhost:8080/"
        },
        "id": "unrCyncidYjP",
        "outputId": "e423cb39-2d67-461a-a0fe-898b5ee13f88"
      },
      "execution_count": 21,
      "outputs": [
        {
          "output_type": "execute_result",
          "data": {
            "text/plain": [
              "(array([ 1.25,  0.5 , -0.25]),\n",
              " array([], dtype=float64),\n",
              " 2,\n",
              " array([1.68481034e+01, 1.06836951e+00, 4.41842475e-16]))"
            ]
          },
          "metadata": {},
          "execution_count": 21
        }
      ]
    },
    {
      "cell_type": "code",
      "source": [
        "X = np.array([ 1.25,  0.5 , -0.25])\n",
        "np.linalg.norm(X), np.linalg.norm(np.dot(A, X) - B)"
      ],
      "metadata": {
        "colab": {
          "base_uri": "https://localhost:8080/"
        },
        "id": "fWI0G-rMeeYM",
        "outputId": "10616819-f9d0-4a90-b61a-300bfa429481"
      },
      "execution_count": 22,
      "outputs": [
        {
          "output_type": "execute_result",
          "data": {
            "text/plain": [
              "(1.3693063937629153, 1.224744871391589)"
            ]
          },
          "metadata": {},
          "execution_count": 22
        }
      ]
    }
  ]
}