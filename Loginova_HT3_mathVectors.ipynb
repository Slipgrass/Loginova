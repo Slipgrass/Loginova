{
  "nbformat": 4,
  "nbformat_minor": 0,
  "metadata": {
    "colab": {
      "name": "Loginova_HT3_mathVectors.ipynb",
      "provenance": [],
      "collapsed_sections": [],
      "authorship_tag": "ABX9TyN+1egN05kfhg0L2quLHS+i",
      "include_colab_link": true
    },
    "kernelspec": {
      "name": "python3",
      "display_name": "Python 3"
    },
    "language_info": {
      "name": "python"
    }
  },
  "cells": [
    {
      "cell_type": "markdown",
      "metadata": {
        "id": "view-in-github",
        "colab_type": "text"
      },
      "source": [
        "<a href=\"https://colab.research.google.com/github/Slipgrass/Loginova/blob/main/Loginova_HT3_mathVectors.ipynb\" target=\"_parent\"><img src=\"https://colab.research.google.com/assets/colab-badge.svg\" alt=\"Open In Colab\"/></a>"
      ]
    },
    {
      "cell_type": "code",
      "execution_count": null,
      "metadata": {
        "id": "4N-R6IEYvR9H"
      },
      "outputs": [],
      "source": [
        "%matplotlib inline\n",
        "import numpy as np\n"
      ]
    },
    {
      "cell_type": "code",
      "source": [
        "m = [10, 10, 10]\n",
        "n = [0, 0, -10]\n",
        "vtr_m = np.array(m)\n",
        "vtr_n = np.array(n)\n",
        "vtr_sum = vtr_m + vtr_n\n",
        "print(vtr_sum)\n",
        "l = np.linalg.norm(vtr_sum)\n",
        "print(l)\n"
      ],
      "metadata": {
        "colab": {
          "base_uri": "https://localhost:8080/"
        },
        "id": "GPXLC9NYvUVl",
        "outputId": "50a21760-89fe-4dce-c286-8df0cead2f3a"
      },
      "execution_count": null,
      "outputs": [
        {
          "output_type": "stream",
          "name": "stdout",
          "text": [
            "[10 10  0]\n",
            "14.142135623730951\n"
          ]
        }
      ]
    }
  ]
}