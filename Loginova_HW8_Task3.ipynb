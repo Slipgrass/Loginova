{
  "nbformat": 4,
  "nbformat_minor": 0,
  "metadata": {
    "kernelspec": {
      "display_name": "Python 3",
      "language": "python",
      "name": "python3"
    },
    "language_info": {
      "codemirror_mode": {
        "name": "ipython",
        "version": 3
      },
      "file_extension": ".py",
      "mimetype": "text/x-python",
      "name": "python",
      "nbconvert_exporter": "python",
      "pygments_lexer": "ipython3",
      "version": "3.6.0"
    },
    "colab": {
      "name": "Loginova_HW8_Task3.ipynb",
      "provenance": [],
      "collapsed_sections": [],
      "include_colab_link": true
    }
  },
  "cells": [
    {
      "cell_type": "markdown",
      "metadata": {
        "id": "view-in-github",
        "colab_type": "text"
      },
      "source": [
        "<a href=\"https://colab.research.google.com/github/Slipgrass/Loginova/blob/main/Loginova_HW8_Task3.ipynb\" target=\"_parent\"><img src=\"https://colab.research.google.com/assets/colab-badge.svg\" alt=\"Open In Colab\"/></a>"
      ]
    },
    {
      "cell_type": "markdown",
      "metadata": {
        "collapsed": true,
        "id": "wEmlkxTNaII1"
      },
      "source": [
        "## Системы линейных алгебраических уравнений (СЛАУ) "
      ]
    },
    {
      "cell_type": "code",
      "metadata": {
        "id": "IkOdpSUZaII3"
      },
      "source": [
        "import numpy as np\n",
        "import matplotlib.pyplot as plt\n"
      ],
      "execution_count": 2,
      "outputs": []
    },
    {
      "cell_type": "code",
      "metadata": {
        "id": "Ry73zdRjaIJR",
        "colab": {
          "base_uri": "https://localhost:8080/"
        },
        "outputId": "01d2ddae-99b9-4e38-d905-aa0c91eeb265"
      },
      "source": [
        "A = np.array([[1, 2, 3], [4, 5, 6], [7, 8, 9]])\n",
        "B = np.array([[2, 5, 1]])\n",
        "C = np.concatenate((A,B.T), axis=1)\n",
        "print (C)\n",
        "np.linalg.matrix_rank(A, 0.0001), np.linalg.matrix_rank(C, 0.0001)\n"
      ],
      "execution_count": null,
      "outputs": [
        {
          "output_type": "stream",
          "name": "stdout",
          "text": [
            "[[1 2 3 2]\n",
            " [4 5 6 5]\n",
            " [7 8 9 1]]\n"
          ]
        },
        {
          "output_type": "execute_result",
          "data": {
            "text/plain": [
              "(2, 3)"
            ]
          },
          "metadata": {},
          "execution_count": 19
        }
      ]
    },
    {
      "cell_type": "code",
      "metadata": {
        "id": "Uk5X5PRGaIJd",
        "colab": {
          "base_uri": "https://localhost:8080/"
        },
        "outputId": "ebac1eaf-021d-459d-d70b-9d2caec8f58e"
      },
      "source": [
        "A = np.array([[1, 2, 3], [4, 5, 6], [7, 8, 9]])\n",
        "B = np.array([[0, 0, 0]])\n",
        "print(np.linalg.det(A))\n",
        "C = np.concatenate((A,B.T), axis=1)\n",
        "print(C)\n",
        "np.linalg.matrix_rank(A, 0.0001), np.linalg.matrix_rank(C, 0.0001)\n"
      ],
      "execution_count": null,
      "outputs": [
        {
          "output_type": "stream",
          "name": "stdout",
          "text": [
            "0.0\n",
            "[[1 2 3 0]\n",
            " [4 5 6 0]\n",
            " [7 8 9 0]]\n"
          ]
        },
        {
          "output_type": "execute_result",
          "data": {
            "text/plain": [
              "(2, 2)"
            ]
          },
          "metadata": {},
          "execution_count": 20
        }
      ]
    },
    {
      "cell_type": "code",
      "metadata": {
        "id": "tITOa7Nb6OkT",
        "colab": {
          "base_uri": "https://localhost:8080/"
        },
        "outputId": "0c711681-ab72-48a4-b02d-bb308572e02b"
      },
      "source": [
        "A = np.array([[1, 2, 3], [4, 5, 6], [7, 8, 9]])\n",
        "B = np.array([[4, -2, -8]])\n",
        "print(np.linalg.det(A))\n",
        "C = np.concatenate((A,B.T), axis=1)\n",
        "print(C)\n",
        "np.linalg.matrix_rank(A, 0.0001), np.linalg.matrix_rank(C, 0.0001)"
      ],
      "execution_count": 32,
      "outputs": [
        {
          "output_type": "stream",
          "name": "stdout",
          "text": [
            "0.0\n",
            "[[ 1  2  3  4]\n",
            " [ 4  5  6 -2]\n",
            " [ 7  8  9 -8]]\n"
          ]
        },
        {
          "output_type": "execute_result",
          "data": {
            "text/plain": [
              "(2, 2)"
            ]
          },
          "metadata": {},
          "execution_count": 32
        }
      ]
    },
    {
      "cell_type": "code",
      "source": [
        "A = np.array([[1, 2, 3], [4, 5, 6], [7, 8, 9]])\n",
        "B = np.array([[3, -3, -9]])\n",
        "print(np.linalg.det(A))\n",
        "C = np.concatenate((A,B.T), axis=1)\n",
        "print(C)\n",
        "np.linalg.matrix_rank(A, 0.0001), np.linalg.matrix_rank(C, 0.0001)"
      ],
      "metadata": {
        "colab": {
          "base_uri": "https://localhost:8080/"
        },
        "id": "dt_4ZHeVAEvv",
        "outputId": "3cb7d5e6-c36d-407c-8627-2c24d4dee318"
      },
      "execution_count": 33,
      "outputs": [
        {
          "output_type": "stream",
          "name": "stdout",
          "text": [
            "0.0\n",
            "[[ 1  2  3  3]\n",
            " [ 4  5  6 -3]\n",
            " [ 7  8  9 -9]]\n"
          ]
        },
        {
          "output_type": "execute_result",
          "data": {
            "text/plain": [
              "(2, 2)"
            ]
          },
          "metadata": {},
          "execution_count": 33
        }
      ]
    },
    {
      "cell_type": "code",
      "source": [
        ""
      ],
      "metadata": {
        "id": "zAu6I7YKAE44"
      },
      "execution_count": null,
      "outputs": []
    }
  ]
}