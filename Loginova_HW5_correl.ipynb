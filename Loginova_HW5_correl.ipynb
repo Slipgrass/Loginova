{
  "nbformat": 4,
  "nbformat_minor": 0,
  "metadata": {
    "colab": {
      "name": "Loginova_HW5_correl.ipynb",
      "provenance": [],
      "collapsed_sections": [],
      "include_colab_link": true
    },
    "language_info": {
      "codemirror_mode": {
        "name": "ipython",
        "version": 3
      },
      "file_extension": ".py",
      "mimetype": "text/x-python",
      "name": "python",
      "nbconvert_exporter": "python",
      "pygments_lexer": "ipython3",
      "version": "3.6.0"
    },
    "kernelspec": {
      "display_name": "Python 3",
      "language": "python",
      "name": "python3"
    }
  },
  "cells": [
    {
      "cell_type": "markdown",
      "metadata": {
        "id": "view-in-github",
        "colab_type": "text"
      },
      "source": [
        "<a href=\"https://colab.research.google.com/github/Slipgrass/Loginova/blob/main/Loginova_HW5_correl.ipynb\" target=\"_parent\"><img src=\"https://colab.research.google.com/assets/colab-badge.svg\" alt=\"Open In Colab\"/></a>"
      ]
    },
    {
      "cell_type": "code",
      "metadata": {
        "id": "sKsQbEPkJG2l"
      },
      "source": [
        "%matplotlib inline\n",
        "import numpy as np\n",
        "import matplotlib.pyplot as plt"
      ],
      "execution_count": null,
      "outputs": []
    },
    {
      "cell_type": "markdown",
      "metadata": {
        "id": "nP6HINd5QSia"
      },
      "source": [
        ""
      ]
    },
    {
      "cell_type": "code",
      "metadata": {
        "id": "mdr8XKPdJG2n",
        "colab": {
          "base_uri": "https://localhost:8080/",
          "height": 283
        },
        "outputId": "4a21cf86-069f-4021-e1a4-de5b231a87bb"
      },
      "source": [
        "x = np.linspace(-2, 3, 21)\n",
        "plt.plot(x, x**2-1 , 'ro-')\n",
        "plt.xlabel('x')\n",
        "plt.ylabel('y')\n",
        "plt.ylim(-1,8) \n",
        "plt.grid(True)\n",
        "plt.show()"
      ],
      "execution_count": null,
      "outputs": [
        {
          "output_type": "display_data",
          "data": {
            "image/png": "[encoded data removed]",
            "text/plain": [
              "<Figure size 432x288 with 1 Axes>"
            ]
          },
          "metadata": {
            "tags": [],
            "needs_background": "light"
          }
        }
      ]
    },
    {
      "cell_type": "code",
      "metadata": {
        "scrolled": true,
        "id": "AxPQfqmpJG2r",
        "colab": {
          "base_uri": "https://localhost:8080/",
          "height": 317
        },
        "outputId": "68d031d0-4e1e-456b-ddea-096b200dcc75"
      },
      "source": [
        "n = 100\n",
        "r = 0.9\n",
        "x = np.random.rand(n)\n",
        "y = r*x + (1 - r)*np.random.rand(n)\n",
        "plt.plot(x, y, 'o')\n",
        "plt.xlabel('x')\n",
        "plt.ylabel('y')\n",
        "plt.grid(True)\n",
        "plt.show()\n",
        "c = np.corrcoef(x, y)\n",
        "с2 = np.sum(x)\n",
        "(np.sum(x)*np.sum(y) - n*np.sum(x*y))/(np.sum(x)*np.sum(x) - n*np.sum(x*x))\n",
        "print(c)"
      ],
      "execution_count": null,
      "outputs": [
        {
          "output_type": "display_data",
          "data": {
            "text/plain": [
              "<Figure size 432x288 with 1 Axes>"
            ],
            "image/png": "[encoded data removed]"
          },
          "metadata": {
            "needs_background": "light"
          }
        },
        {
          "output_type": "stream",
          "name": "stdout",
          "text": [
            "[[1.         0.99392651]\n",
            " [0.99392651 1.        ]]\n"
          ]
        }
      ]
    },
    {
      "cell_type": "code",
      "metadata": {
        "id": "H1qEG0MXJG2u",
        "colab": {
          "base_uri": "https://localhost:8080/",
          "height": 435
        },
        "outputId": "9f3f90ff-0ee2-4ae3-d87a-95cdd19f228c"
      },
      "source": [
        "n = 100\n",
        "r = 0.4\n",
        "x = np.random.rand(n)\n",
        "y = r*x + (1 - r)*np.random.rand(n)\n",
        "plt.plot(x, y, 'o')\n",
        "plt.xlabel('x')\n",
        "plt.ylabel('y')\n",
        "plt.grid(True)\n",
        "\n",
        "a = (np.sum(x)*np.sum(y) - n*np.sum(x*y))/(np.sum(x)*np.sum(x) - n*np.sum(x*x))\n",
        "b = (np.sum(y) - a * np.sum(x)) / n\n",
        "\n",
        "print(np.sum(x))\n",
        "print(np.sum(y))\n",
        "\n",
        "A = np.vstack([x, np.ones(len(x))]).T\n",
        "a1, b1 = np.linalg.lstsq(A, y)[0]\n",
        "print(a, b)\n",
        "print(a1, b1)\n",
        "\n",
        "xm = np.sum(x) / n\n",
        "ym = np.sum(y) / n\n",
        "r = (np.sum(x - xm) * np.sum(y - ym)) / np.sqrt((np.sum(x - xm) ** 2) * (np.sum(y - ym) ** 2))\n",
        "#формула неверна, так как значения x по идее надо перебирать в цикле. Не могу понять, как это\n",
        "#надо было грамотно описать.\n",
        "print(xm, ym, r)\n",
        "\n",
        "my_rho = np.corrcoef(x, y) \n",
        "print(my_rho) \n",
        "#нашла формулу вызова функции подсчета средней из библиотеки, она выдаёт вроде бы верные значения.\n",
        "\n",
        "\n",
        "\n",
        "plt.plot([0, 1], [b, a + b])\n",
        "plt.show()\n",
        "\n"
      ],
      "execution_count": 81,
      "outputs": [
        {
          "output_type": "stream",
          "name": "stdout",
          "text": [
            "44.64041306824498\n",
            "49.22037311075248\n",
            "0.46489379044309065 0.284673222725108\n",
            "0.46489379044309087 0.2846732227251076\n",
            "0.44640413068244983 0.49220373110752486 1.0\n",
            "[[1.         0.62387688]\n",
            " [0.62387688 1.        ]]\n"
          ]
        },
        {
          "output_type": "stream",
          "name": "stderr",
          "text": [
            "/usr/local/lib/python3.7/dist-packages/ipykernel_launcher.py:17: FutureWarning: `rcond` parameter will change to the default of machine precision times ``max(M, N)`` where M and N are the input matrix dimensions.\n",
            "To use the future default and silence this warning we advise to pass `rcond=None`, to keep using the old, explicitly pass `rcond=-1`.\n"
          ]
        },
        {
          "output_type": "display_data",
          "data": {
            "text/plain": [
              "<Figure size 432x288 with 1 Axes>"
            ],
            "image/png": "[encoded data removed]"
          },
          "metadata": {
            "needs_background": "light"
          }
        }
      ]
    }
  ]
}