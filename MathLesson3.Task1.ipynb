{
  "nbformat": 4,
  "nbformat_minor": 0,
  "metadata": {
    "colab": {
      "name": "Untitled3.ipynb",
      "provenance": [],
      "authorship_tag": "ABX9TyOoopa0AYWjv+lNnUq2fvUS",
      "include_colab_link": true
    },
    "kernelspec": {
      "name": "python3",
      "display_name": "Python 3"
    },
    "language_info": {
      "name": "python"
    }
  },
  "cells": [
    {
      "cell_type": "markdown",
      "metadata": {
        "id": "view-in-github",
        "colab_type": "text"
      },
      "source": [
        "<a href=\"https://colab.research.google.com/github/Slipgrass/Loginova/blob/main/MathLesson3.Task1.ipynb\" target=\"_parent\"><img src=\"https://colab.research.google.com/assets/colab-badge.svg\" alt=\"Open In Colab\"/></a>"
      ]
    },
    {
      "cell_type": "code",
      "execution_count": 1,
      "metadata": {
        "colab": {
          "base_uri": "https://localhost:8080/"
        },
        "id": "m0bg7X-46zEE",
        "outputId": "bee9710b-4c0a-4d61-96e8-ccdd42ce0869"
      },
      "outputs": [
        {
          "output_type": "stream",
          "name": "stdout",
          "text": [
            "10\n",
            "10\n",
            "0\n",
            "14.142135623730951\n"
          ]
        }
      ],
      "source": [
        "from math import sqrt, pow\n",
        "x = float(input())\n",
        "y = float(input())\n",
        "z = float(input())\n",
        "\n",
        "len_vec = sqrt(pow(x, 2) + pow(y, 2) + pow(z, 2))\n",
        "print(len_vec)"
      ]
    }
  ]
}